{
 "cells": [
  {
   "cell_type": "markdown",
   "metadata": {},
   "source": [
    "## Assignment 1 - Spatial Analytics"
   ]
  },
  {
   "cell_type": "markdown",
   "metadata": {},
   "source": [
    "Hanna Matera"
   ]
  },
  {
   "cell_type": "markdown",
   "metadata": {},
   "source": [
    "# Task \n",
    "Using the corpus called 100-english-novels found on the cds-language GitHub repo, write a Python programme which does the following:\n",
    "\n",
    "Calculate the total word count for each novel.\n",
    "\n",
    "Calculate the total number of unique words for each novel.\n",
    "\n",
    "Save result as a single file consisting of three columns: filename, total_words, unique_words\n"
   ]
  },
  {
   "cell_type": "markdown",
   "metadata": {},
   "source": [
    "Importing packages"
   ]
  },
  {
   "cell_type": "code",
   "execution_count": 41,
   "metadata": {},
   "outputs": [],
   "source": [
    "import os\n",
    "from pathlib import Path\n",
    "import pandas as pd\n",
    "import numpy as np"
   ]
  },
  {
   "cell_type": "markdown",
   "metadata": {},
   "source": [
    " creating data path "
   ]
  },
  {
   "cell_type": "code",
   "execution_count": 42,
   "metadata": {},
   "outputs": [],
   "source": [
    "data_path = os.path.join(\"..\",\"data\",\"100_english_novels\", \"corpus\")\n",
    "\n",
    "# Count the length of the path to isolate filename in the loop\n",
    "path_len = len(data_path)"
   ]
  },
  {
   "cell_type": "markdown",
   "metadata": {},
   "source": [
    " Defining a function that reads the files from the folder, calculates the wordcount and number of unique words. Lastly it appends the results to a data frame and saves it as a data frame "
   ]
  },
  {
   "cell_type": "code",
   "execution_count": 43,
   "metadata": {},
   "outputs": [],
   "source": [
    "# making an empty dataframe using pandas\n",
    "word_count_df = pd.DataFrame(columns = ['filename', 'total_words', 'unique_words'])\n",
    "\n",
    "# for loop to split and count words\n",
    "for filename in Path(data_path).glob(\"*.txt\"):\n",
    "    with open(filename, \"r\", encoding=\"utf-8\") as file:\n",
    "        loaded_text = file.read()\n",
    "        # split on whitespaces\n",
    "        split_text = loaded_text.split()\n",
    "        # save word count\n",
    "        total_words = len(split_text)\n",
    "        # count unique words with numpy\n",
    "        values, unique = np.unique(split_text, return_counts=True)\n",
    "        unique_words = len(unique)\n",
    "        # saving the filename, total_words and unique_words in a temporary dataframe (this will be overwritten by new iteration)\n",
    "        temp_df = ({'filename': filename, 'total_words': total_words, 'unique_words': unique_words})\n",
    "        # appending the temporary dataframe to the empty dataframe\n",
    "        word_count_df = word_count_df.append(temp_df, ignore_index=True)\n"
   ]
  },
  {
   "cell_type": "markdown",
   "metadata": {},
   "source": [
    "Saving the results "
   ]
  },
  {
   "cell_type": "code",
   "execution_count": 44,
   "metadata": {},
   "outputs": [],
   "source": [
    "\n",
    "# defining the path for results\n",
    "path2results = os.path.join(\"..\", \"Assignment1\", \"word_count_df.csv\")\n",
    "# saving the dataframe as csv file\n",
    "word_count_df.to_csv(path2results)\n"
   ]
  }
 ],
 "metadata": {
  "kernelspec": {
   "display_name": "Python 3",
   "language": "python",
   "name": "python3"
  },
  "language_info": {
   "codemirror_mode": {
    "name": "ipython",
    "version": 3
   },
   "file_extension": ".py",
   "mimetype": "text/x-python",
   "name": "python",
   "nbconvert_exporter": "python",
   "pygments_lexer": "ipython3",
   "version": "3.8.3"
  }
 },
 "nbformat": 4,
 "nbformat_minor": 4
}
